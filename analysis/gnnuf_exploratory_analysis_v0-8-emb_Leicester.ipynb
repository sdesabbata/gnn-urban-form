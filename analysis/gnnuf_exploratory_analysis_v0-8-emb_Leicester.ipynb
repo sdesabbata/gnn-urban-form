{
 "cells": [
  {
   "cell_type": "markdown",
   "metadata": {
    "collapsed": false
   },
   "source": [
    "## Setup"
   ]
  },
  {
   "cell_type": "code",
   "execution_count": null,
   "metadata": {
    "collapsed": false
   },
   "outputs": [],
   "source": [
    "# Base libraries\n",
    "import pandas as pd\n",
    "import hdbscan\n",
    "import umap\n",
    "import seaborn as sns\n",
    "import matplotlib.pyplot as plt\n",
    "import plotly.express as px\n",
    "import plotly.graph_objects as go\n",
    "# NetworkX\n",
    "import networkx as nx\n",
    "import osmnx as ox\n",
    "# OS environment setup\n",
    "from local_directories import *"
   ]
  },
  {
   "cell_type": "markdown",
   "metadata": {
    "collapsed": false
   },
   "source": [
    "## Load data"
   ]
  },
  {
   "cell_type": "code",
   "execution_count": null,
   "metadata": {
    "collapsed": false
   },
   "outputs": [],
   "source": [
    "# Load Leciester's graph\n",
    "leicester_osmnx_graph = ox.io.load_graphml(bulk_storage_directory + \"/osmnx/raw_excluded/leicester-1864.graphml\")\n",
    "leicester_osmnx_graph_prj = ox.project_graph(leicester_osmnx_graph)"
   ]
  },
  {
   "cell_type": "code",
   "execution_count": null,
   "metadata": {
    "collapsed": false
   },
   "outputs": [],
   "source": [
    "len(list(leicester_osmnx_graph.nodes))"
   ]
  },
  {
   "cell_type": "code",
   "execution_count": null,
   "metadata": {
    "collapsed": false
   },
   "outputs": [],
   "source": [
    "ox.plot_graph(\n",
    "    leicester_osmnx_graph_prj,\n",
    "    node_size=5, node_color=\"#000000\",\n",
    "    edge_color=\"#000000\", edge_linewidth=0.1,\n",
    "    bgcolor=\"#ffffff\",\n",
    "    figsize=(16, 16))"
   ]
  },
  {
   "cell_type": "code",
   "execution_count": null,
   "metadata": {
    "collapsed": false
   },
   "outputs": [],
   "source": [
    "# Convert graph to dataframe version\n",
    "leicester_osmnx_graph_prj_df = None\n",
    "for node in leicester_osmnx_graph_prj:\n",
    "    node_dict = leicester_osmnx_graph_prj.nodes[node]\n",
    "    node_dict[\"osmnx_node_id\"] = int(node)\n",
    "    # node_dict[\"osmnx_node_id\"] = str(node)\n",
    "    if leicester_osmnx_graph_prj_df is None:\n",
    "        leicester_osmnx_graph_prj_df = pd.DataFrame.from_dict([node_dict])\n",
    "    else:\n",
    "        leicester_osmnx_graph_prj_df = pd.concat([leicester_osmnx_graph_prj_df, pd.DataFrame.from_dict([node_dict])])\n",
    "leicester_osmnx_graph_prj_df.head()"
   ]
  },
  {
   "cell_type": "code",
   "execution_count": null,
   "metadata": {
    "collapsed": false
   },
   "outputs": [],
   "source": [
    "# Load Leciester's base stats\n",
    "leicester_osmnx_basic_stats = pd.read_csv(this_repo_directory + \"/data/leicester-1864_stats_egograph_basic_dist500.csv\")\n",
    "leicester_osmnx_basic_stats = leicester_osmnx_basic_stats.rename(columns={\"node_id\":\"osmnx_node_id\"})\n",
    "# Drop NAs created when ego-graph has less than 8 nodes\n",
    "leicester_osmnx_basic_stats = leicester_osmnx_basic_stats.dropna(subset=[\"osmnx_node_id\"])\n",
    "leicester_osmnx_basic_stats.head()"
   ]
  },
  {
   "cell_type": "code",
   "execution_count": null,
   "metadata": {
    "collapsed": false
   },
   "outputs": [],
   "source": [
    "# Load Leciester's embeddings\n",
    "leicester_emb_df = pd.read_csv(this_repo_directory + \"/data/leicester-1864_emb_gnnuf_model_v0-8-1.csv\")\n",
    "leicester_emb_df.head()"
   ]
  },
  {
   "cell_type": "code",
   "execution_count": null,
   "outputs": [],
   "source": [
    "leicester_emb_only = leicester_emb_df.drop(['osmnx_node_id'], axis=1)\n",
    "leicester_emb_only.shape"
   ],
   "metadata": {
    "collapsed": false
   }
  },
  {
   "cell_type": "markdown",
   "metadata": {
    "collapsed": false
   },
   "source": [
    "## Explore embeddings"
   ]
  },
  {
   "cell_type": "code",
   "execution_count": null,
   "outputs": [],
   "source": [
    "# https://umap-learn.readthedocs.io/en/latest/api.html\n",
    "reducer = umap.UMAP(\n",
    "        n_neighbors=256,\n",
    "        min_dist=0.0,\n",
    "        #n_components=2,\n",
    "        metric='cosine'\n",
    "    )\n",
    "reduced_embedding = reducer.fit_transform(leicester_emb_only)"
   ],
   "metadata": {
    "collapsed": false
   }
  },
  {
   "cell_type": "code",
   "execution_count": null,
   "outputs": [],
   "source": [
    "fig = px.scatter(\n",
    "    leicester_emb_df,\n",
    "    x=reduced_embedding[:, 0],\n",
    "    y=reduced_embedding[:, 1],\n",
    "    #hover_data=['osmnx_node_id'],\n",
    "    width=800, height=800\n",
    ")\n",
    "fig.update_layout({\"plot_bgcolor\": \"#ffffff\"})\n",
    "fig.update_xaxes(showgrid=True, gridwidth=1, gridcolor='#cccccc', zeroline=True, zerolinewidth=1, zerolinecolor='#cccccc')\n",
    "fig.update_yaxes(showgrid=True, gridwidth=1, gridcolor='#cccccc', zeroline=True, zerolinewidth=1, zerolinecolor='#cccccc')\n",
    "fig.show()"
   ],
   "metadata": {
    "collapsed": false
   }
  },
  {
   "cell_type": "code",
   "execution_count": null,
   "outputs": [],
   "source": [
    "leicester_emb_df = pd.concat([\n",
    "    leicester_emb_df, \n",
    "    pd.DataFrame(\n",
    "        reduced_embedding, \n",
    "        columns=['UMAP0', 'UMAP1']\n",
    "    ).reindex(leicester_emb_df.index)\n",
    "], axis=1)\n",
    "leicester_emb_df.head()"
   ],
   "metadata": {
    "collapsed": false
   }
  },
  {
   "cell_type": "code",
   "execution_count": null,
   "metadata": {
    "collapsed": false
   },
   "outputs": [],
   "source": [
    "fig = px.scatter(\n",
    "    leicester_emb_df,\n",
    "    x=\"UMAP0\",\n",
    "    y=\"UMAP1\",\n",
    "    hover_data=['osmnx_node_id'],\n",
    "    width=800, height=800\n",
    ")\n",
    "fig.update_layout({\"plot_bgcolor\": \"#ffffff\"})\n",
    "fig.update_xaxes(showgrid=True, gridwidth=1, gridcolor='#cccccc', zeroline=True, zerolinewidth=1, zerolinecolor='#cccccc')\n",
    "fig.update_yaxes(showgrid=True, gridwidth=1, gridcolor='#cccccc', zeroline=True, zerolinewidth=1, zerolinecolor='#cccccc')\n",
    "fig.show()"
   ]
  },
  {
   "cell_type": "code",
   "execution_count": null,
   "metadata": {
    "collapsed": false
   },
   "outputs": [],
   "source": [
    "for node in leicester_osmnx_graph_prj.nodes:\n",
    "    if len(leicester_emb_df[leicester_emb_df[\"osmnx_node_id\"] == node][\"EMB000\"].values) == 0:\n",
    "        leicester_osmnx_graph_prj.nodes[node][\"UMAP0\"] = None\n",
    "        leicester_osmnx_graph_prj.nodes[node][\"UMAP1\"] = None\n",
    "    else:\n",
    "        leicester_osmnx_graph_prj.nodes[node][\"UMAP0\"] = float(leicester_emb_df[leicester_emb_df[\"osmnx_node_id\"] == node][\"UMAP0\"].values)\n",
    "        leicester_osmnx_graph_prj.nodes[node][\"UMAP1\"] = float(leicester_emb_df[leicester_emb_df[\"osmnx_node_id\"] == node][\"UMAP1\"].values)"
   ]
  },
  {
   "cell_type": "code",
   "execution_count": null,
   "metadata": {
    "collapsed": false
   },
   "outputs": [],
   "source": [
    "ox.plot_graph(leicester_osmnx_graph_prj, node_color=[\n",
    "    leicester_osmnx_graph_prj.nodes[node][\"UMAP0\"] for node in leicester_osmnx_graph_prj.nodes],\n",
    "    node_size=10, bgcolor=\"#ffffff\",\n",
    "    figsize=(16, 16))"
   ]
  },
  {
   "cell_type": "code",
   "execution_count": null,
   "metadata": {
    "collapsed": false
   },
   "outputs": [],
   "source": [
    "ox.plot_graph(leicester_osmnx_graph_prj, node_color=[\n",
    "    leicester_osmnx_graph_prj.nodes[node][\"UMAP1\"] for node in leicester_osmnx_graph_prj.nodes],\n",
    "    node_size=10, bgcolor=\"#ffffff\",\n",
    "    figsize=(16, 16))"
   ]
  },
  {
   "cell_type": "markdown",
   "metadata": {
    "collapsed": false
   },
   "source": [
    "## Correlations with basic stats\n",
    "\n",
    "Checking correlations between EMB000 and EMB001 and all the basic statistics from OSMnx. No clear correlation found."
   ]
  },
  {
   "cell_type": "code",
   "execution_count": null,
   "metadata": {
    "collapsed": false
   },
   "outputs": [],
   "source": [
    "leicester_closeness_centrality = pd.DataFrame.from_dict(\n",
    "    nx.closeness_centrality(leicester_osmnx_graph),\n",
    "    orient='index',\n",
    "    columns=['closeness_networkwide'])\n",
    "leicester_closeness_centrality['osmnx_node_id'] = leicester_closeness_centrality.index\n",
    "leicester_closeness_centrality.head()"
   ]
  },
  {
   "cell_type": "code",
   "execution_count": null,
   "metadata": {
    "collapsed": false
   },
   "outputs": [],
   "source": [
    "leicester_betweenness_centrality = pd.DataFrame.from_dict(\n",
    "    nx.betweenness_centrality(leicester_osmnx_graph),\n",
    "    orient='index',\n",
    "    columns=['betweenness_networkwide'])\n",
    "leicester_betweenness_centrality['osmnx_node_id'] = leicester_betweenness_centrality.index\n",
    "leicester_betweenness_centrality.head()"
   ]
  },
  {
   "cell_type": "code",
   "execution_count": null,
   "metadata": {
    "collapsed": false
   },
   "outputs": [],
   "source": [
    "leicester_pairplot_df = leicester_osmnx_basic_stats[\n",
    "    [\"osmnx_node_id\",\"n\", \"m\", \"k_avg\", \"edge_length_total\", \"edge_length_avg\",\n",
    "    \"streets_per_node_avg\", \"intersection_count\", \"street_length_total\",\n",
    "    \"street_segment_count\", \"street_length_avg\", \"circuity_avg\"]].merge(\n",
    "        leicester_closeness_centrality,\n",
    "        on=\"osmnx_node_id\"\n",
    "    ).merge(\n",
    "        leicester_betweenness_centrality,\n",
    "        on=\"osmnx_node_id\"\n",
    "    ).merge(\n",
    "        leicester_emb_df[[\"osmnx_node_id\", \"EMB000\", \"EMB001\"]],\n",
    "        on=\"osmnx_node_id\"\n",
    "    )"
   ]
  },
  {
   "cell_type": "code",
   "execution_count": null,
   "metadata": {
    "collapsed": false
   },
   "outputs": [],
   "source": [
    "leicester_pairplot_df_withpooled = pd.merge(\n",
    "    leicester_pairplot_df,\n",
    "    pd.read_csv(this_repo_directory + \"/data/leicester-1864_emb-pool_gnnuf_model_v0-5.csv\").rename(columns={\"EMB000\":\"EMB000pooled\", \"EMB001\":\"EMB001pooled\"}),\n",
    "    on=\"osmnx_node_id\"\n",
    "    )"
   ]
  },
  {
   "cell_type": "code",
   "execution_count": null,
   "metadata": {
    "collapsed": false
   },
   "outputs": [],
   "source": [
    "print(leicester_pairplot_df_withpooled.drop(columns=[\"osmnx_node_id\"]).corr(method=\"kendall\"))"
   ]
  },
  {
   "cell_type": "code",
   "execution_count": null,
   "metadata": {
    "collapsed": false
   },
   "outputs": [],
   "source": [
    "# Double-checking difference with Spearman's rho\n",
    "print(leicester_pairplot_df_withpooled.drop(columns=[\"osmnx_node_id\"]).corr(method=\"spearman\"))"
   ]
  },
  {
   "cell_type": "code",
   "execution_count": null,
   "metadata": {
    "collapsed": false
   },
   "outputs": [],
   "source": [
    "sns.pairplot(leicester_pairplot_df_withpooled.drop(columns=[\"osmnx_node_id\"]), kind=\"hist\")"
   ]
  },
  {
   "cell_type": "code",
   "execution_count": null,
   "metadata": {
    "collapsed": false
   },
   "outputs": [],
   "source": [
    "leicester_pairplot_df_withpooled.to_csv(this_repo_directory + \"/data/leicester-1864_emb_gnnuf_model_v0-5_with-node-and-basic-stats.csv\", index=False)"
   ]
  },
  {
   "cell_type": "markdown",
   "metadata": {
    "collapsed": false
   },
   "source": [
    "## Check specific nodes\n",
    "\n",
    "Checking the ego-network of the nodes with the most extreme values in each direction (min and max) for both UMAP0 and UMAP1"
   ]
  },
  {
   "cell_type": "code",
   "execution_count": null,
   "metadata": {
    "collapsed": false
   },
   "outputs": [],
   "source": [
    "leicester_emb_df[leicester_emb_df[\"osmnx_node_id\"] == 6782625866]"
   ]
  },
  {
   "cell_type": "code",
   "execution_count": null,
   "metadata": {
    "collapsed": false
   },
   "outputs": [],
   "source": [
    "ego_6782625866 = nx.generators.ego_graph(\n",
    "    leicester_osmnx_graph, 6782625866,\n",
    "    radius=max_distance, undirected=True, distance=\"length\")\n",
    "ego_6782625866_prj = ox.project_graph(ego_6782625866)\n",
    "ox.plot_graph(\n",
    "    ego_6782625866_prj,\n",
    "    node_size=[20 if node == 6782625866 else 5 for node in ego_6782625866_prj.nodes],\n",
    "    node_color=[\"#e41a1c\" if node == 6782625866 else \"#ffffff\" for node in ego_6782625866_prj.nodes],\n",
    "    figsize=(5, 5)\n",
    ")"
   ]
  },
  {
   "cell_type": "code",
   "execution_count": null,
   "metadata": {
    "collapsed": false
   },
   "outputs": [],
   "source": [
    "leicester_emb_df[leicester_emb_df[\"osmnx_node_id\"] == 354554417]"
   ]
  },
  {
   "cell_type": "code",
   "execution_count": null,
   "metadata": {
    "collapsed": false
   },
   "outputs": [],
   "source": [
    "ego_354554417 = nx.generators.ego_graph(\n",
    "    leicester_osmnx_graph, 354554417,\n",
    "    radius=max_distance, undirected=True, distance=\"length\")\n",
    "ego_354554417_prj = ox.project_graph(ego_354554417)\n",
    "ox.plot_graph(\n",
    "    ego_354554417_prj,\n",
    "    node_size=[20 if node == 354554417 else 5 for node in ego_354554417_prj.nodes],\n",
    "    node_color=[\"#e41a1c\" if node == 354554417 else \"#ffffff\" for node in ego_354554417_prj.nodes],\n",
    "    figsize=(5, 5)\n",
    ")"
   ]
  },
  {
   "cell_type": "code",
   "execution_count": null,
   "metadata": {
    "collapsed": false
   },
   "outputs": [],
   "source": [
    "leicester_emb_df[leicester_emb_df[\"osmnx_node_id\"] == 1179199412]"
   ]
  },
  {
   "cell_type": "code",
   "execution_count": null,
   "metadata": {
    "collapsed": false
   },
   "outputs": [],
   "source": [
    "ego_1179199412 = nx.generators.ego_graph(\n",
    "    leicester_osmnx_graph, 1179199412,\n",
    "    radius=max_distance, undirected=True, distance=\"length\")\n",
    "ego_1179199412_prj = ox.project_graph(ego_1179199412)\n",
    "ox.plot_graph(\n",
    "    ego_1179199412_prj,\n",
    "    node_size=[20 if node == 1179199412 else 5 for node in ego_1179199412_prj.nodes],\n",
    "    node_color=[\"#e41a1c\" if node == 1179199412 else \"#ffffff\" for node in ego_1179199412_prj.nodes],\n",
    "    figsize=(5, 5)\n",
    ")"
   ]
  },
  {
   "cell_type": "code",
   "execution_count": null,
   "metadata": {
    "collapsed": false
   },
   "outputs": [],
   "source": [
    "leicester_emb_df[leicester_emb_df[\"osmnx_node_id\"] == 2858142815]"
   ]
  },
  {
   "cell_type": "code",
   "execution_count": null,
   "metadata": {
    "collapsed": false
   },
   "outputs": [],
   "source": [
    "ego_2858142815 = nx.generators.ego_graph(\n",
    "    leicester_osmnx_graph, 2858142815,\n",
    "    radius=max_distance, undirected=True, distance=\"length\")\n",
    "ego_2858142815_prj = ox.project_graph(ego_2858142815)\n",
    "ox.plot_graph(\n",
    "    ego_2858142815_prj,\n",
    "    node_size=[20 if node == 2858142815 else 5 for node in ego_2858142815_prj.nodes],\n",
    "    node_color=[\"#e41a1c\" if node == 2858142815 else \"#ffffff\" for node in ego_2858142815_prj.nodes],\n",
    "    figsize=(5, 5)\n",
    ")"
   ]
  },
  {
   "cell_type": "code",
   "execution_count": null,
   "metadata": {
    "collapsed": false
   },
   "outputs": [],
   "source": [
    "leicester_emb_df[leicester_emb_df[\"osmnx_node_id\"] == 296162322]"
   ]
  },
  {
   "cell_type": "code",
   "execution_count": null,
   "metadata": {
    "collapsed": false
   },
   "outputs": [],
   "source": [
    "ego_296162322 = nx.generators.ego_graph(\n",
    "    leicester_osmnx_graph, 296162322,\n",
    "    radius=max_distance, undirected=True, distance=\"length\")\n",
    "ego_296162322_prj = ox.project_graph(ego_296162322)\n",
    "ox.plot_graph(\n",
    "    ego_296162322_prj,\n",
    "    node_size=[20 if node == 296162322 else 5 for node in ego_296162322_prj.nodes],\n",
    "    node_color=[\"#e41a1c\" if node == 296162322 else \"#ffffff\" for node in ego_296162322_prj.nodes],\n",
    "    figsize=(5, 5)\n",
    ")"
   ]
  },
  {
   "cell_type": "markdown",
   "metadata": {
    "collapsed": false
   },
   "source": [
    "## Explore patterns"
   ]
  },
  {
   "cell_type": "code",
   "execution_count": null,
   "metadata": {
    "collapsed": false
   },
   "outputs": [],
   "source": [
    "leicester_emb_patters_df = leicester_emb_df.copy()"
   ]
  },
  {
   "cell_type": "code",
   "execution_count": null,
   "metadata": {
    "collapsed": false
   },
   "outputs": [],
   "source": [
    "# from sklearn.cluster import DBSCAN\n",
    "# leicester_emb_df_clust = leicester_emb_df[[\"UMAP0\", \"UMAP1\"]].dropna()\n",
    "# clust = DBSCAN(eps=1.0, min_samples=300)\n",
    "# leicester_emb_patters_df[\"clust\"] = clust.fit_predict(leicester_emb_df_clust)\n",
    "# leicester_emb_patters_df[\"clust\"].nunique()"
   ]
  },
  {
   "cell_type": "code",
   "execution_count": null,
   "outputs": [],
   "source": [
    "leicester_emb_df_clust = leicester_emb_df[[\"UMAP0\", \"UMAP1\"]].dropna()\n",
    "clusterer = hdbscan.HDBSCAN(min_cluster_size=100, gen_min_span_tree=True)\n",
    "leicester_emb_patters_df[\"clust\"] = clusterer.fit_predict(leicester_emb_df_clust)\n",
    "leicester_emb_patters_df[\"clust\"].nunique()"
   ],
   "metadata": {
    "collapsed": false
   }
  },
  {
   "cell_type": "code",
   "execution_count": null,
   "metadata": {
    "collapsed": false
   },
   "outputs": [],
   "source": [
    "colorbrewer_set1 = [\"#e41a1c\", \"#377eb8\", \"#4daf4a\", \"#984ea3\", \"#ff7f00\", \"#ffff33\", \"#a65628\", \"#f781bf\", \"#999999\"]\n",
    "colorbrewer_set12p = [\"#a6cee3\", \"#1f78b4\", \"#b2df8a\", \"#33a02c\", \"#fb9a99\", \"#e31a1c\", \"#fdbf6f\", \"#ff7f00\", \"#cab2d6\", \"#6a3d9a\", \"#ffff99\", \"#b15928\"]\n",
    "leicester_emb_patters_df[\"clust_colour\"] = leicester_emb_patters_df[\"clust\"].apply(lambda x: colorbrewer_set12p[x])\n",
    "leicester_emb_patters_df.head()"
   ]
  },
  {
   "cell_type": "code",
   "execution_count": null,
   "metadata": {
    "collapsed": false
   },
   "outputs": [],
   "source": [
    "plt.figure(figsize=(7,7))\n",
    "ax = plt.axes()\n",
    "ax.set_facecolor(\"white\")\n",
    "plt.scatter(\n",
    "    x=leicester_emb_patters_df.UMAP0,\n",
    "    y=leicester_emb_patters_df.UMAP1,\n",
    "    c=leicester_emb_patters_df.clust_colour,\n",
    "    s=5, edgecolors='black', linewidth=0.1)\n",
    "plt.xlabel(\"Embeddings first dimension\")\n",
    "plt.ylabel(\"Embeddings second dimension\")\n",
    "plt.show()"
   ]
  },
  {
   "cell_type": "code",
   "execution_count": null,
   "metadata": {
    "collapsed": false
   },
   "outputs": [],
   "source": [
    "fig = go.Figure()\n",
    "fig.add_trace(go.Scatter(\n",
    "    x=leicester_emb_patters_df.EMB000,\n",
    "    y=leicester_emb_patters_df.EMB001,\n",
    "    mode='markers',\n",
    "    marker=dict(color=leicester_emb_patters_df.clust_colour)\n",
    "))\n",
    "fig.update_layout({\"plot_bgcolor\": \"#ffffff\"}, width=800, height=800)\n",
    "fig.update_xaxes(showgrid=True, gridwidth=1, gridcolor='#cccccc', zeroline=True, zerolinewidth=1, zerolinecolor='#cccccc')\n",
    "fig.update_yaxes(showgrid=True, gridwidth=1, gridcolor='#cccccc', zeroline=True, zerolinewidth=1, zerolinecolor='#cccccc')\n",
    "fig.show()"
   ]
  },
  {
   "cell_type": "code",
   "execution_count": null,
   "metadata": {
    "collapsed": false
   },
   "outputs": [],
   "source": [
    "def bivariate_colour(x, limits):\n",
    "    if x[0] is None or x[1] is None:\n",
    "        return None\n",
    "    else:\n",
    "        if x[0] <= limits[0, 0]:\n",
    "            if x[1] <= limits[1, 0]:\n",
    "                # return \"#e8e8e8\"\n",
    "                return \"#e8e8e8\"\n",
    "            elif x[1] <= limits[1, 1]:\n",
    "                # return \"#cbb8d7\"\n",
    "                return \"#e4acac\"\n",
    "            else:\n",
    "                # return \"#9972af\"\n",
    "                return \"#c85a5a\"\n",
    "        if x[0] <= limits[0, 1]:\n",
    "            if x[1] <= limits[1, 0]:\n",
    "                # return \"#e4d9ac\"\n",
    "                return \"#b0d5df\"\n",
    "            elif x[1] <= limits[1, 1]:\n",
    "                # return \"#c8ada0\"\n",
    "                return \"#ad9ea5\"\n",
    "            else:\n",
    "                # return \"#976b82\"\n",
    "                return \"#985356\"\n",
    "        else:\n",
    "            if x[1] <= limits[1, 0]:\n",
    "                # return \"#c8b35a\"\n",
    "                return \"#64acbe\"\n",
    "            elif x[1] <= limits[1, 1]:\n",
    "                # return \"#af8e53\"\n",
    "                return \"#627f8c\"\n",
    "            else:\n",
    "                # return \"#804d36\"\n",
    "                return \"#574249\"\n",
    "\n",
    "leicester_emb_quantiles = leicester_emb_df[[\"EMB000\", \"EMB001\"]].quantile([1/3, 2/3]).values.transpose()\n",
    "leicester_emb_patters_df[\"bivariate_colour\"] = leicester_emb_patters_df.apply(\n",
    "    lambda x: bivariate_colour([x[\"EMB000\"], x[\"EMB001\"]], leicester_emb_quantiles), axis=1\n",
    ")\n",
    "leicester_emb_patters_df.head()"
   ]
  },
  {
   "cell_type": "code",
   "execution_count": null,
   "metadata": {
    "collapsed": false
   },
   "outputs": [],
   "source": [
    "plt.figure(figsize=(7,7))\n",
    "ax = plt.axes()\n",
    "ax.set_facecolor(\"white\")\n",
    "plt.scatter(\n",
    "    x=leicester_emb_patters_df.EMB000,\n",
    "    y=leicester_emb_patters_df.EMB001,\n",
    "    c=leicester_emb_patters_df.bivariate_colour,\n",
    "    s=10, edgecolors='black', linewidth=0.1)\n",
    "plt.xlabel(\"Embeddings first dimension\")\n",
    "plt.ylabel(\"Embeddings second dimension\")\n",
    "plt.show()"
   ]
  },
  {
   "cell_type": "code",
   "execution_count": null,
   "metadata": {
    "collapsed": false
   },
   "outputs": [],
   "source": [
    "fig = go.Figure()\n",
    "fig.add_trace(go.Scatter(\n",
    "    x=leicester_emb_patters_df.EMB000,\n",
    "    y=leicester_emb_patters_df.EMB001,\n",
    "    mode='markers',\n",
    "    marker=dict(color=leicester_emb_patters_df.bivariate_colour)\n",
    "))\n",
    "fig.update_layout({\"plot_bgcolor\": \"#ffffff\"}, width=800, height=800)\n",
    "fig.update_xaxes(showgrid=True, gridwidth=1, gridcolor='#cccccc', zeroline=True, zerolinewidth=1, zerolinecolor='#cccccc')\n",
    "fig.update_yaxes(showgrid=True, gridwidth=1, gridcolor='#cccccc', zeroline=True, zerolinewidth=1, zerolinecolor='#cccccc')\n",
    "fig.show()"
   ]
  },
  {
   "cell_type": "code",
   "execution_count": null,
   "metadata": {
    "collapsed": false
   },
   "outputs": [],
   "source": [
    "leicester_osmnx_bivariate = leicester_osmnx_graph_prj.copy()\n",
    "\n",
    "for node in leicester_osmnx_bivariate.nodes:\n",
    "    node_bivariate_colour = leicester_emb_patters_df.loc[leicester_emb_patters_df[\"osmnx_node_id\"] == node]\n",
    "    if node_bivariate_colour.empty:\n",
    "        #leicester_osmnx_bivariate.nodes[node][\"bivariate_colour\"] = \"#000000\"\n",
    "        leicester_osmnx_bivariate.nodes[node][\"clust_colour\"] = \"#000000\"\n",
    "        leicester_osmnx_bivariate.nodes[node][\"node_size\"] = 1\n",
    "    else:\n",
    "        #leicester_osmnx_bivariate.nodes[node][\"bivariate_colour\"] = node_bivariate_colour[\"bivariate_colour\"].values[0]\n",
    "        leicester_osmnx_bivariate.nodes[node][\"clust_colour\"] = node_bivariate_colour[\"clust_colour\"].values[0]\n",
    "        leicester_osmnx_bivariate.nodes[node][\"node_size\"] = 7"
   ]
  },
  {
   "cell_type": "code",
   "execution_count": null,
   "metadata": {
    "collapsed": false
   },
   "outputs": [],
   "source": [
    "ox.plot_graph(\n",
    "    leicester_osmnx_bivariate,\n",
    "    node_color=[leicester_osmnx_bivariate.nodes[node][\"clust_colour\"] for node in leicester_osmnx_bivariate.nodes],\n",
    "    node_size=[leicester_osmnx_bivariate.nodes[node][\"node_size\"]if leicester_osmnx_bivariate.nodes[node][\"clust_colour\"]!=colorbrewer_set1[-1] else 1 for node in leicester_osmnx_bivariate.nodes],\n",
    "    bgcolor=\"#ffffff\", edge_color=\"#000000\", edge_linewidth=0.1,\n",
    "    figsize=(12, 12))"
   ]
  },
  {
   "cell_type": "code",
   "execution_count": null,
   "metadata": {
    "collapsed": false
   },
   "outputs": [],
   "source": [
    "# ox.plot_graph(\n",
    "#     leicester_osmnx_bivariate,\n",
    "#     node_color=[leicester_osmnx_bivariate.nodes[node][\"clust_colour\"] for node in leicester_osmnx_bivariate.nodes],\n",
    "#     node_size=[leicester_osmnx_bivariate.nodes[node][\"node_size\"]*8 if leicester_osmnx_bivariate.nodes[node][\"clust_colour\"]!=colorbrewer_set1[-1] else 8 for node in leicester_osmnx_bivariate.nodes],\n",
    "#     bgcolor=\"#ffffff\", edge_color=\"#000000\", edge_linewidth=0.1,\n",
    "#     figsize=(48, 48))"
   ]
  },
  {
   "cell_type": "code",
   "execution_count": null,
   "metadata": {
    "collapsed": false
   },
   "outputs": [],
   "source": [
    "ox.plot_graph(\n",
    "    leicester_osmnx_bivariate,\n",
    "    node_color=[leicester_osmnx_bivariate.nodes[node][\"bivariate_colour\"] for node in leicester_osmnx_bivariate.nodes],\n",
    "    node_size=[leicester_osmnx_bivariate.nodes[node][\"node_size\"] for node in leicester_osmnx_bivariate.nodes],\n",
    "    bgcolor=\"#ffffff\", edge_color=\"#000000\", edge_linewidth=0.1,\n",
    "    figsize=(12, 12))"
   ]
  },
  {
   "cell_type": "code",
   "execution_count": null,
   "metadata": {
    "collapsed": false
   },
   "outputs": [],
   "source": [
    "# ox.plot_graph(\n",
    "#     leicester_osmnx_bivariate,\n",
    "#     node_color=[leicester_osmnx_bivariate.nodes[node][\"bivariate_colour\"] for node in leicester_osmnx_bivariate.nodes],\n",
    "#     node_size=[leicester_osmnx_bivariate.nodes[node][\"node_size\"]*2 for node in leicester_osmnx_bivariate.nodes],\n",
    "#     bgcolor=\"#ffffff\", edge_color=\"#000000\", edge_linewidth=0.1,\n",
    "#     figsize=(24, 24))"
   ]
  },
  {
   "cell_type": "code",
   "execution_count": null,
   "metadata": {
    "collapsed": false
   },
   "outputs": [],
   "source": [
    "import geopandas as gpd\n",
    "leicester_gdf = gpd.GeoDataFrame(\n",
    "    leicester_osmnx_graph_prj_df,\n",
    "    geometry=gpd.points_from_xy(\n",
    "        leicester_osmnx_graph_prj_df.lon,\n",
    "        leicester_osmnx_graph_prj_df.lat\n",
    "    ),\n",
    "    crs=\"EPSG:4326\"\n",
    ").merge(leicester_emb_patters_df, on='osmnx_node_id', how='left').merge(leicester_osmnx_basic_stats, on='osmnx_node_id', how='left')\n",
    "leicester_gdf.head()"
   ]
  },
  {
   "cell_type": "code",
   "execution_count": null,
   "metadata": {
    "collapsed": false
   },
   "outputs": [],
   "source": [
    "leicester_gdf[leicester_gdf[\"clust_colour\"]!=colorbrewer_set1[-1]].dropna(subset=[\"EMB000\"]).explore(\n",
    "    color=\"clust_colour\",\n",
    "    marker_kwds={\"radius\": 7}, style_kwds={\"stroke\": False},\n",
    "    tiles=\"Stamen Toner\"\n",
    ")"
   ]
  },
  {
   "cell_type": "code",
   "execution_count": null,
   "metadata": {
    "collapsed": false
   },
   "outputs": [],
   "source": [
    "leicester_gdf[leicester_gdf[\"bivariate_colour\"]!=\"#000000\"].dropna(subset=[\"EMB000\"]).explore(\n",
    "    color=\"bivariate_colour\",\n",
    "    marker_kwds={\"radius\": 7}, style_kwds={\"stroke\": False},\n",
    "    legend=True,\n",
    "    tiles=\"Stamen Toner\"\n",
    ")"
   ]
  },
  {
   "cell_type": "code",
   "execution_count": null,
   "metadata": {
    "collapsed": false
   },
   "outputs": [],
   "source": []
  }
 ],
 "metadata": {
  "kernelspec": {
   "display_name": "Python 3 (ipykernel)",
   "language": "python",
   "name": "python3"
  },
  "language_info": {
   "codemirror_mode": {
    "name": "ipython",
    "version": 3
   },
   "file_extension": ".py",
   "mimetype": "text/x-python",
   "name": "python",
   "nbconvert_exporter": "python",
   "pygments_lexer": "ipython3",
   "version": "3.11.5"
  }
 },
 "nbformat": 4,
 "nbformat_minor": 4
}
